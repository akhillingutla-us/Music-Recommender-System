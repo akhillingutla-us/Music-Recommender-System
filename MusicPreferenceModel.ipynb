{
 "cells": [
  {
   "cell_type": "code",
   "execution_count": 34,
   "id": "dda2d92c",
   "metadata": {},
   "outputs": [
    {
     "data": {
      "text/plain": [
       "0.4"
      ]
     },
     "execution_count": 34,
     "metadata": {},
     "output_type": "execute_result"
    }
   ],
   "source": [
    "# Import Data\n",
    "# Clean the Data\n",
    "# Split the Data into Training/Test Sets\n",
    "# Create a Model\n",
    "# Train the Model\n",
    "# Make Predictions\n",
    "# Evaluate and Improve\n",
    "\n",
    "import pandas as pd\n",
    "from sklearn.tree import DecisionTreeClassifier # Import decision tree algo\n",
    "from sklearn.model_selection import train_test_split\n",
    "from sklearn.metrics import accuracy_score\n",
    "\n",
    "#TRAINING\n",
    "\n",
    "#Seperate the Data into input and output\n",
    "\n",
    "music_data = pd.read_csv('music.csv')\n",
    "X = music_data.drop(columns = ['genre'])\n",
    "y = music_data['genre'] # returns all the values in the genre column\n",
    "X_train, X_test, y_train, y_test = train_test_split(X, y, test_size = 0.2)  #training and testing sets for input and output sets\n",
    "\n",
    "#Now we create the model using a ML algo (Decision Trees)\n",
    "model = DecisionTreeClassifier()\n",
    "model.fit(X_train, y_train) #Takes the input/output set. \n",
    "predictions = model.predict(X_test) #Asking the model to make a prediction.\n",
    "\n",
    "score = accuracy_score(y_test, predictions)\n",
    "score\n"
   ]
  }
 ],
 "metadata": {
  "kernelspec": {
   "display_name": "Python 3 (ipykernel)",
   "language": "python",
   "name": "python3"
  },
  "language_info": {
   "codemirror_mode": {
    "name": "ipython",
    "version": 3
   },
   "file_extension": ".py",
   "mimetype": "text/x-python",
   "name": "python",
   "nbconvert_exporter": "python",
   "pygments_lexer": "ipython3",
   "version": "3.10.9"
  }
 },
 "nbformat": 4,
 "nbformat_minor": 5
}
