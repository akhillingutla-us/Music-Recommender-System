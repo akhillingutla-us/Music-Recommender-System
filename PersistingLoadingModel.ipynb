{
 "cells": [
  {
   "cell_type": "code",
   "execution_count": 6,
   "id": "b65740f8",
   "metadata": {},
   "outputs": [
    {
     "name": "stderr",
     "output_type": "stream",
     "text": [
      "/Users/akhil.lingutla/anaconda3/lib/python3.10/site-packages/sklearn/base.py:420: UserWarning: X does not have valid feature names, but DecisionTreeClassifier was fitted with feature names\n",
      "  warnings.warn(\n"
     ]
    },
    {
     "data": {
      "text/plain": [
       "array(['HipHop'], dtype=object)"
      ]
     },
     "execution_count": 6,
     "metadata": {},
     "output_type": "execute_result"
    }
   ],
   "source": [
    "# Import Data\n",
    "# Clean the Data\n",
    "# Split the Data into Training/Test Sets\n",
    "# Create a Model\n",
    "# Train the Model\n",
    "# Make Predictions\n",
    "# Evaluate and Improve\n",
    "\n",
    "import pandas as pd\n",
    "from sklearn.tree import DecisionTreeClassifier # Import decision tree algo\n",
    "import joblib as jb\n",
    "\n",
    "# music_data = pd.read_csv('music.csv')\n",
    "# X = music_data.drop(columns = ['genre'])\n",
    "# y = music_data['genre'] # returns all the values in the genre column\n",
    "\n",
    "# #Now we create the model using a ML algo (Decision Trees)\n",
    "# model = DecisionTreeClassifier()\n",
    "# model.fit(X, y) #Takes the input/output set. \n",
    "\n",
    "jb.load('music-recommender.joblib') #stores the trained model in a file\n",
    "\n",
    "predictions = model.predict([[21, 1]]) #Asking the model to make a prediction.\n",
    "predictions"
   ]
  },
  {
   "cell_type": "code",
   "execution_count": null,
   "id": "f499c45f",
   "metadata": {},
   "outputs": [],
   "source": []
  }
 ],
 "metadata": {
  "kernelspec": {
   "display_name": "Python 3 (ipykernel)",
   "language": "python",
   "name": "python3"
  },
  "language_info": {
   "codemirror_mode": {
    "name": "ipython",
    "version": 3
   },
   "file_extension": ".py",
   "mimetype": "text/x-python",
   "name": "python",
   "nbconvert_exporter": "python",
   "pygments_lexer": "ipython3",
   "version": "3.10.9"
  }
 },
 "nbformat": 4,
 "nbformat_minor": 5
}
