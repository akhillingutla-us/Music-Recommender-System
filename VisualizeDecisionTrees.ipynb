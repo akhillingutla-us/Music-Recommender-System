{
 "cells": [
  {
   "cell_type": "code",
   "execution_count": 2,
   "id": "b8df1bee",
   "metadata": {},
   "outputs": [],
   "source": [
    "import pandas as pd\n",
    "from sklearn.tree import DecisionTreeClassifier # Import decision tree algo\n",
    "from sklearn import tree\n",
    "\n",
    "#TRAINING\n",
    "\n",
    "#Seperate the Data into input and output\n",
    "\n",
    "music_data = pd.read_csv('music.csv')\n",
    "X = music_data.drop(columns = ['genre'])\n",
    "y = music_data['genre'] # returns all the values in the genre column\n",
    "\n",
    "#Now we create the model using a ML algo (Decision Trees)\n",
    "model = DecisionTreeClassifier()\n",
    "model.fit(X, y) #Takes the input/output set. \n",
    "\n",
    "tree.export_graphviz(model, out_file='music-recommender.dot', \n",
    "                    feature_names=['age', 'gender'], #The rules in our nodes\n",
    "                    class_names=sorted(y.unique()), #set it to the unique list of genres so they are displayed in the nodes\n",
    "                    label ='all', #Every node has labels that we can read\n",
    "                    rounded=True, #Gives boxes rounded corners\n",
    "                    filled=True) #Each box is filled with a color"
   ]
  }
 ],
 "metadata": {
  "kernelspec": {
   "display_name": "Python 3 (ipykernel)",
   "language": "python",
   "name": "python3"
  },
  "language_info": {
   "codemirror_mode": {
    "name": "ipython",
    "version": 3
   },
   "file_extension": ".py",
   "mimetype": "text/x-python",
   "name": "python",
   "nbconvert_exporter": "python",
   "pygments_lexer": "ipython3",
   "version": "3.10.9"
  }
 },
 "nbformat": 4,
 "nbformat_minor": 5
}
